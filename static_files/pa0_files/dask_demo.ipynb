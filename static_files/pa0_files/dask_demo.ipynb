{
 "cells": [
  {
   "cell_type": "code",
   "execution_count": null,
   "id": "5646a7b9",
   "metadata": {},
   "outputs": [],
   "source": [
    "import numpy as np\n",
    "import pandas as pd\n",
    "import dask\n",
    "import dask.dataframe as dd\n",
    "from dask.distributed import Client\n",
    "import ctypes\n",
    "import time"
   ]
  },
  {
   "cell_type": "markdown",
   "id": "8995964b",
   "metadata": {},
   "source": [
    "## Start Dask Scheduler and Workers"
   ]
  },
  {
   "cell_type": "code",
   "execution_count": null,
   "id": "32189445",
   "metadata": {},
   "outputs": [],
   "source": [
    "client = Client()\n",
    "client.restart()"
   ]
  },
  {
   "cell_type": "markdown",
   "id": "c861247b",
   "metadata": {},
   "source": [
    "## Read CSV"
   ]
  },
  {
   "cell_type": "code",
   "execution_count": null,
   "id": "75f34bd1",
   "metadata": {},
   "outputs": [],
   "source": [
    "user_reviews_ddf = dd.read_csv(\"user_reviews_trimmed.csv\")"
   ]
  },
  {
   "cell_type": "code",
   "execution_count": null,
   "id": "2dc12351",
   "metadata": {},
   "outputs": [],
   "source": [
    "user_reviews_ddf"
   ]
  },
  {
   "cell_type": "code",
   "execution_count": null,
   "id": "6360f326",
   "metadata": {
    "scrolled": true
   },
   "outputs": [],
   "source": [
    "user_reviews_ddf.visualize()"
   ]
  },
  {
   "cell_type": "markdown",
   "id": "5d917a37",
   "metadata": {},
   "source": [
    "## Mean computation"
   ]
  },
  {
   "cell_type": "code",
   "execution_count": null,
   "id": "c3644ad0",
   "metadata": {},
   "outputs": [],
   "source": [
    "mean_graph = user_reviews_ddf[\"overall\"].mean()"
   ]
  },
  {
   "cell_type": "code",
   "execution_count": null,
   "id": "707484da",
   "metadata": {
    "scrolled": false
   },
   "outputs": [],
   "source": [
    "mean_graph.visualize()"
   ]
  },
  {
   "cell_type": "code",
   "execution_count": null,
   "id": "bc736f72",
   "metadata": {},
   "outputs": [],
   "source": [
    "result = mean_graph.compute()"
   ]
  },
  {
   "cell_type": "code",
   "execution_count": null,
   "id": "ca11bbf3",
   "metadata": {},
   "outputs": [],
   "source": [
    "print(f\"mean of 'overall' attribute is {result}\")"
   ]
  },
  {
   "cell_type": "markdown",
   "id": "03dc5b26",
   "metadata": {},
   "source": [
    "## Implicit compute() for len(), head() etc"
   ]
  },
  {
   "cell_type": "code",
   "execution_count": null,
   "id": "b8b31dfe",
   "metadata": {},
   "outputs": [],
   "source": [
    "user_reviews_ddf.head(10)"
   ]
  },
  {
   "cell_type": "markdown",
   "id": "7b740405",
   "metadata": {},
   "source": [
    "## Inspecting Individual Partitions"
   ]
  },
  {
   "cell_type": "code",
   "execution_count": null,
   "id": "f59b441c",
   "metadata": {},
   "outputs": [],
   "source": [
    "num_partitions = user_reviews_ddf.npartitions\n",
    "print(f\"Total number of partitions = {num_partitions}\")"
   ]
  },
  {
   "cell_type": "code",
   "execution_count": null,
   "id": "c3a08cb4",
   "metadata": {
    "scrolled": true
   },
   "outputs": [],
   "source": [
    "partition1 = user_reviews_ddf.partitions[0].compute()\n",
    "partition1"
   ]
  },
  {
   "cell_type": "code",
   "execution_count": null,
   "id": "4ec69f24",
   "metadata": {},
   "outputs": [],
   "source": [
    "user_reviews_repart_ddf = user_reviews_ddf.repartition(npartitions=10)  \n",
    "user_reviews_repart_ddf.npartitions"
   ]
  },
  {
   "cell_type": "markdown",
   "id": "1c0e7a6b",
   "metadata": {},
   "source": [
    "## Groupby"
   ]
  },
  {
   "cell_type": "code",
   "execution_count": null,
   "id": "3f9019d2",
   "metadata": {},
   "outputs": [],
   "source": [
    "# get mean rating of every product \n",
    "product_means = user_reviews_ddf.groupby(\"asin\").overall.mean()\n",
    "product_means.npartitions"
   ]
  },
  {
   "cell_type": "code",
   "execution_count": null,
   "id": "2cdda056",
   "metadata": {},
   "outputs": [],
   "source": [
    "# Groupby defaults to 1 output partition! Can get problematic if we have many groups and 'product_means' does not fit in RAM!\n",
    "product_means.npartitions"
   ]
  },
  {
   "cell_type": "code",
   "execution_count": null,
   "id": "4d904b1d",
   "metadata": {
    "scrolled": false
   },
   "outputs": [],
   "source": [
    "# product_means.visualize()"
   ]
  },
  {
   "cell_type": "markdown",
   "id": "7af319a9",
   "metadata": {},
   "source": [
    "## Map-Partition"
   ]
  },
  {
   "cell_type": "code",
   "execution_count": null,
   "id": "6970795a",
   "metadata": {},
   "outputs": [],
   "source": [
    "out = user_reviews_ddf.map_partitions(lambda df: df[\"overall\"]*5, meta=pd.Series(dtype=float))\n",
    "# out = user_reviews_ddf[\"overall\"]*5"
   ]
  },
  {
   "cell_type": "code",
   "execution_count": null,
   "id": "efaecf3b",
   "metadata": {},
   "outputs": [],
   "source": [
    "out"
   ]
  },
  {
   "cell_type": "markdown",
   "id": "d3a923f3",
   "metadata": {},
   "source": [
    "## Calling Compute On Related Operations Allows for Task Sharing"
   ]
  },
  {
   "cell_type": "code",
   "execution_count": null,
   "id": "ff941827",
   "metadata": {
    "scrolled": true
   },
   "outputs": [],
   "source": [
    "s1 = user_reviews_ddf.groupby(\"asin\").overall.sum()\n",
    "s2 = user_reviews_ddf.groupby(\"asin\").overall.mean()\n",
    "\n",
    "out = dd.compute(s1,s2)"
   ]
  },
  {
   "cell_type": "code",
   "execution_count": null,
   "id": "e774356f",
   "metadata": {},
   "outputs": [],
   "source": [
    "print(out)"
   ]
  }
 ],
 "metadata": {
  "kernelspec": {
   "display_name": "Python 3 (ipykernel)",
   "language": "python",
   "name": "python3"
  },
  "language_info": {
   "codemirror_mode": {
    "name": "ipython",
    "version": 3
   },
   "file_extension": ".py",
   "mimetype": "text/x-python",
   "name": "python",
   "nbconvert_exporter": "python",
   "pygments_lexer": "ipython3",
   "version": "3.10.6"
  }
 },
 "nbformat": 4,
 "nbformat_minor": 5
}
